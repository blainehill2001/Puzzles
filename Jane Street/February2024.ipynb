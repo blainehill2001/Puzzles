{
 "cells": [
  {
   "cell_type": "code",
   "execution_count": 14,
   "metadata": {},
   "outputs": [],
   "source": [
    "# to get intuition, first simulate"
   ]
  },
  {
   "cell_type": "code",
   "execution_count": 15,
   "metadata": {},
   "outputs": [],
   "source": [
    "import numpy as np\n",
    "from tqdm import tqdm"
   ]
  },
  {
   "cell_type": "code",
   "execution_count": 16,
   "metadata": {},
   "outputs": [
    {
     "name": "stderr",
     "output_type": "stream",
     "text": [
      "Simulating: 100%|██████████| 1000000000/1000000000 [48:35<00:00, 342972.82iteration/s] "
     ]
    },
    {
     "name": "stdout",
     "output_type": "stream",
     "text": [
      "Probability that the circle is off the square: 0.476389423\n"
     ]
    },
    {
     "name": "stderr",
     "output_type": "stream",
     "text": [
      "\n"
     ]
    }
   ],
   "source": [
    "def simulate_circle_off_square(iterations=1_000_000_000, square_size=1):\n",
    "    off_square_count = 0\n",
    "\n",
    "    for _ in tqdm(range(iterations), desc=\"Simulating\", unit=\"iteration\"):\n",
    "        # Generate two points (x1, y1) and (x2, y2) within the square\n",
    "        x1, y1, x2, y2 = np.random.uniform(0, square_size, 4)\n",
    "\n",
    "        # Calculate the circle's radius\n",
    "        radius = np.sqrt((x2 - x1) ** 2 + (y2 - y1) ** 2) / 2\n",
    "\n",
    "        # Calculate the circle's center\n",
    "        center_x = (x1 + x2) / 2\n",
    "        center_y = (y1 + y2) / 2\n",
    "\n",
    "        # Check if any part of the circle is off the square\n",
    "        if (\n",
    "            center_x - radius < 0\n",
    "            or center_x + radius > square_size\n",
    "            or center_y - radius < 0\n",
    "            or center_y + radius > square_size\n",
    "        ):\n",
    "            off_square_count += 1\n",
    "\n",
    "    return off_square_count / iterations\n",
    "\n",
    "\n",
    "# Example simulation\n",
    "probability = simulate_circle_off_square()\n",
    "print(f\"Probability that the circle is off the square: {probability}\")"
   ]
  }
 ],
 "metadata": {
  "kernelspec": {
   "display_name": "temp",
   "language": "python",
   "name": "python3"
  },
  "language_info": {
   "codemirror_mode": {
    "name": "ipython",
    "version": 3
   },
   "file_extension": ".py",
   "mimetype": "text/x-python",
   "name": "python",
   "nbconvert_exporter": "python",
   "pygments_lexer": "ipython3",
   "version": "3.11.6"
  }
 },
 "nbformat": 4,
 "nbformat_minor": 2
}
