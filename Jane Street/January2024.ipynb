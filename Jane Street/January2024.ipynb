{
 "cells": [
  {
   "cell_type": "markdown",
   "metadata": {},
   "source": []
  },
  {
   "cell_type": "code",
   "execution_count": null,
   "metadata": {},
   "outputs": [],
   "source": [
    "import cvxpy as cp\n"
   ]
  },
  {
   "cell_type": "code",
   "execution_count": null,
   "metadata": {},
   "outputs": [],
   "source": [
    "\n",
    "# Define problem dimensions\n",
    "num_pentominos = 12  # Adjust if needed\n",
    "grid_rows = 6  # Adjust grid dimensions as needed\n",
    "grid_cols = 10\n",
    "\n",
    "# Define decision variables\n",
    "x = cp.Variable(num_pentominos, boolean=True)  # Placement of pentominos\n",
    "y = cp.Variable((grid_rows, grid_cols), boolean=True)  # Adjacency to pentominos\n",
    "\n",
    "# Constraint (1): Each cell can be in at most one pentomino or adjacent to at most one.\n",
    "constraints = []\n",
    "for i in range(grid_rows):\n",
    "    for j in range(grid_cols):\n",
    "        constraints.append(sum(x[p] for p in pentominos_containing_cell(i, j)) + sum(x[p] for p in pentominos_adjacent_to_cell(i, j)) <= 1)\n",
    "\n",
    "# Constraint (2): If a pentomino is placed, at least one adjacent cell must also be adjacent to another pentomino.\n",
    "for p in range(num_pentominos):\n",
    "    constraints.append(cp.sum(y[i, j] for i, j in adjacent_cells_of_pentomino(p)) >= x[p])\n",
    "\n",
    "# Objective: Maximize the number of cells containing pentominos\n",
    "objective = cp.Maximize(cp.sum(x))\n",
    "\n",
    "# Create and solve the problem\n",
    "prob = cp.Problem(objective, constraints)\n",
    "prob.solve()\n",
    "\n",
    "# Print the solution\n",
    "print(\"Optimal number of pentominos placed:\", x.value.sum())\n",
    "print(\"Placement of pentominos:\", x.value)\n",
    "print(\"Adjacency of cells to pentominos:\", y.value)"
   ]
  },
  {
   "cell_type": "code",
   "execution_count": null,
   "metadata": {},
   "outputs": [],
   "source": [
    "#did it by hand"
   ]
  }
 ],
 "metadata": {
  "kernelspec": {
   "display_name": "temp",
   "language": "python",
   "name": "python3"
  },
  "language_info": {
   "codemirror_mode": {
    "name": "ipython",
    "version": 3
   },
   "file_extension": ".py",
   "mimetype": "text/x-python",
   "name": "python",
   "nbconvert_exporter": "python",
   "pygments_lexer": "ipython3",
   "version": "3.11.6"
  }
 },
 "nbformat": 4,
 "nbformat_minor": 2
}
