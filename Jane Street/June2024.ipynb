{
 "cells": [
  {
   "cell_type": "code",
   "execution_count": 1,
   "metadata": {},
   "outputs": [],
   "source": [
    "states = {\n",
    "    \"ALABAMA\": 5024279,\n",
    "    \"ALASKA\": 733391,\n",
    "    \"ARIZONA\": 7151502,\n",
    "    \"ARKANSAS\": 3011524,\n",
    "    \"CALIFORNIA\": 39538223,\n",
    "    \"COLORADO\": 5773714,\n",
    "    \"CONNECTICUT\": 3605944,\n",
    "    \"DELAWARE\": 989948,\n",
    "    \"FLORIDA\": 21538187,\n",
    "    \"GEORGIA\": 10711908,\n",
    "    \"HAWAII\": 1455271,\n",
    "    \"IDAHO\": 1839106,\n",
    "    \"ILLINOIS\": 12812508,\n",
    "    \"INDIANA\": 6785528,\n",
    "    \"IOWA\": 3193079,\n",
    "    \"KANSAS\": 2937880,\n",
    "    \"KENTUCKY\": 4505836,\n",
    "    \"LOUISIANA\": 4657757,\n",
    "    \"MAINE\": 1362359,\n",
    "    \"MARYLAND\": 6177224,\n",
    "    \"MASSACHUSETTS\": 7029917,\n",
    "    \"MICHIGAN\": 10077331,\n",
    "    \"MINNESOTA\": 5706494,\n",
    "    \"MISSISSIPPI\": 2976149,\n",
    "    \"MISSOURI\": 6154913,\n",
    "    \"MONTANA\": 1104057,\n",
    "    \"NEBRASKA\": 1961504,\n",
    "    \"NEVADA\": 3104614,\n",
    "    \"NEW HAMPSHIRE\": 1388992,\n",
    "    \"NEW JERSEY\": 9288994,\n",
    "    \"NEW MEXICO\": 2117522,\n",
    "    \"NEW YORK\": 20201049,\n",
    "    \"NORTH CAROLINA\": 10439388,\n",
    "    \"NORTH DAKOTA\": 779094,\n",
    "    \"OHIO\": 11799448,\n",
    "    \"OKLAHOMA\": 3959353,\n",
    "    \"OREGON\": 4237256,\n",
    "    \"PENNSYLVANIA\": 13011844,\n",
    "    \"RHODE ISLAND\": 1097379,\n",
    "    \"SOUTH CAROLINA\": 5118425,\n",
    "    \"SOUTH DAKOTA\": 886667,\n",
    "    \"TENNESSEE\": 6910840,\n",
    "    \"TEXAS\": 29145505,\n",
    "    \"UTAH\": 3271616,\n",
    "    \"VERMONT\": 643077,\n",
    "    \"VIRGINIA\": 8631393,\n",
    "    \"WASHINGTON\": 7705281,\n",
    "    \"WEST VIRGINIA\": 1793716,\n",
    "    \"WISCONSIN\": 5893718,\n",
    "    \"WYOMING\": 577719,\n",
    "}"
   ]
  },
  {
   "cell_type": "code",
   "execution_count": 2,
   "metadata": {},
   "outputs": [
    {
     "data": {
      "text/plain": [
       "174195405"
      ]
     },
     "execution_count": 2,
     "metadata": {},
     "output_type": "execute_result"
    }
   ],
   "source": [
    "states = {\n",
    "    \"CALIFORNIA\": 39538223,\n",
    "    \"TEXAS\": 29145505,\n",
    "    \"FLORIDA\": 21538187,\n",
    "    \"NEW YORK\": 20201049,\n",
    "    \"OHIO\": 11799448,\n",
    "    \"NEW JERSEY\": 9288994,\n",
    "    \"ILLINOIS\": 12812508,\n",
    "    \"IOWA\": 3193079,\n",
    "    \"INDIANA\": 6785528,\n",
    "    \"OREGON\": 4237256,\n",
    "    \"GEORGIA\": 10711908,\n",
    "    \"NEVADA\": 3104614,\n",
    "    \"IDAHO\": 1839106,\n",
    "}\n",
    "\n",
    "combined_population = sum(states.values())\n",
    "combined_population"
   ]
  },
  {
   "cell_type": "markdown",
   "metadata": {},
   "source": [
    "did it by hand\n",
    "\n",
    "XSFLGXDIOECANRYXXSEWXXXTX\n",
    "\n",
    "X S F L G\n",
    "X D I O E\n",
    "C A N R Y\n",
    "X X S E W\n",
    "X X X T X\n",
    "\n",
    "should be\n",
    "california\n",
    "texas\n",
    "florida\n",
    "new york\n",
    "ohio\n",
    "new jersey\n",
    "illinois\n",
    "iowa\n",
    "indiana\n",
    "oregon\n",
    "georgia\n",
    "nevada\n",
    "idaho\n"
   ]
  }
 ],
 "metadata": {
  "kernelspec": {
   "display_name": "temp",
   "language": "python",
   "name": "python3"
  },
  "language_info": {
   "codemirror_mode": {
    "name": "ipython",
    "version": 3
   },
   "file_extension": ".py",
   "mimetype": "text/x-python",
   "name": "python",
   "nbconvert_exporter": "python",
   "pygments_lexer": "ipython3",
   "version": "3.12.2"
  }
 },
 "nbformat": 4,
 "nbformat_minor": 2
}
