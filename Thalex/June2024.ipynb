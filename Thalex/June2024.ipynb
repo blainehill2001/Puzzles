{
 "cells": [
  {
   "cell_type": "code",
   "execution_count": 18,
   "metadata": {},
   "outputs": [
    {
     "name": "stdout",
     "output_type": "stream",
     "text": [
      "Expected Euclidean Distance: 1.463887683885336\n",
      "Expected Manhattan Distance: 1.7745315927162881\n"
     ]
    }
   ],
   "source": [
    "import math\n",
    "\n",
    "# Memoization dictionary\n",
    "memo = {}\n",
    "\n",
    "\n",
    "def expected_distance(x, y, steps):\n",
    "    # Check if the result is already computed\n",
    "    if (x, y, steps) in memo:\n",
    "        return memo[(x, y, steps)]\n",
    "\n",
    "    # Base case: no more steps\n",
    "    if steps == 0:\n",
    "        euclidean = math.sqrt(x**2 + y**2)\n",
    "        manhattan = abs(x) + abs(y)\n",
    "        return (euclidean, manhattan)\n",
    "\n",
    "    # Recursive case: calculate expected distances for each possible move\n",
    "    # Initialize distances\n",
    "    total_euclidean = 0\n",
    "    total_manhattan = 0\n",
    "\n",
    "    # Move up\n",
    "    eu, ma = expected_distance(x, y + 1, steps - 1)\n",
    "    total_euclidean += eu\n",
    "    total_manhattan += ma\n",
    "\n",
    "    # Move down\n",
    "    eu, ma = expected_distance(x, y - 1, steps - 1)\n",
    "    total_euclidean += eu\n",
    "    total_manhattan += ma\n",
    "\n",
    "    # Move left\n",
    "    eu, ma = expected_distance(x - 1, y, steps - 1)\n",
    "    total_euclidean += eu\n",
    "    total_manhattan += ma\n",
    "\n",
    "    # Move right\n",
    "    eu, ma = expected_distance(x + 1, y, steps - 1)\n",
    "    total_euclidean += eu\n",
    "    total_manhattan += ma\n",
    "\n",
    "    # Die (return current position's distance)\n",
    "    euclidean = math.sqrt(x**2 + y**2)\n",
    "    manhattan = abs(x) + abs(y)\n",
    "    total_euclidean += euclidean\n",
    "    total_manhattan += manhattan\n",
    "\n",
    "    # Average the results since each event has equal probability\n",
    "    avg_euclidean = total_euclidean / 5\n",
    "    avg_manhattan = total_manhattan / 5\n",
    "\n",
    "    # Store in memoization dictionary\n",
    "    memo[(x, y, steps)] = (avg_euclidean, avg_manhattan)\n",
    "\n",
    "    return (avg_euclidean, avg_manhattan)\n",
    "\n",
    "\n",
    "# Calculate the expected distance\n",
    "result = expected_distance(0, 0, 16)\n",
    "print(f\"Expected Euclidean Distance: {result[0]}\")\n",
    "print(f\"Expected Manhattan Distance: {result[1]}\")"
   ]
  }
 ],
 "metadata": {
  "kernelspec": {
   "display_name": "temp",
   "language": "python",
   "name": "python3"
  },
  "language_info": {
   "codemirror_mode": {
    "name": "ipython",
    "version": 3
   },
   "file_extension": ".py",
   "mimetype": "text/x-python",
   "name": "python",
   "nbconvert_exporter": "python",
   "pygments_lexer": "ipython3",
   "version": "3.12.2"
  }
 },
 "nbformat": 4,
 "nbformat_minor": 2
}
