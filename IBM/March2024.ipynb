{
 "cells": [
  {
   "cell_type": "code",
   "execution_count": 1,
   "metadata": {},
   "outputs": [],
   "source": [
    "from sympy import isprime\n",
    "from tqdm import tqdm"
   ]
  },
  {
   "cell_type": "code",
   "execution_count": 2,
   "metadata": {},
   "outputs": [],
   "source": [
    "# def get_sequence(a0, n):\n",
    "#     if isprime(a0): return False\n",
    "#     sequence = [a0]\n",
    "#     for i in range(1, n):\n",
    "#         next_term = sequence[-1] + i\n",
    "#         if isprime(next_term):\n",
    "#             return False\n",
    "#         sequence.append(next_term)\n",
    "#     return sequence\n",
    "\n",
    "\n",
    "def get_sequence(a, n):\n",
    "    a0 = a\n",
    "    if isprime(a):\n",
    "        return False\n",
    "    for i in range(1, n):\n",
    "        a += i\n",
    "        if isprime(a):\n",
    "            return False\n",
    "    return a0\n",
    "\n",
    "\n",
    "def find_x_n(n):\n",
    "    found_seq = False\n",
    "    # for a0 in tqdm(range(30_430_000_000, 100_000_000_000)):\n",
    "    for a0 in tqdm(range(15_000_000_000 + 906344696, 100_000_000_000)):\n",
    "        sequence = get_sequence(a0, n)\n",
    "        if sequence is not False:\n",
    "            with open(\"output.txt\", \"a\") as f:\n",
    "                f.write(f\"{n} {sequence}\\n\")\n",
    "            found_seq = True\n",
    "            print(f\"{n} {sequence}\\n\")\n",
    "            break\n",
    "    if not found_seq:\n",
    "        print(\"no sequence found\")"
   ]
  },
  {
   "cell_type": "code",
   "execution_count": 3,
   "metadata": {},
   "outputs": [
    {
     "name": "stderr",
     "output_type": "stream",
     "text": [
      " 11%|█         | 9063446967/85000000000 [40:36:06<344:27:12, 61237.56it/s] "
     ]
    }
   ],
   "source": [
    "# for i in range(1,6):\n",
    "#     find_x_n(i)\n",
    "# find_x_n(1000)\n",
    "find_x_n(2024)"
   ]
  },
  {
   "cell_type": "markdown",
   "metadata": {},
   "source": [
    "We will define a not prime constraint and then optimize to find the smallest a0"
   ]
  },
  {
   "cell_type": "code",
   "execution_count": null,
   "metadata": {},
   "outputs": [],
   "source": [
    "# from z3 import *\n",
    "\n",
    "# def is_not_prime(x):\n",
    "#     \"\"\"\n",
    "#     This function defines a constraint for Z3 that ensures the input variable 'x' is not prime.\n",
    "#     \"\"\"\n",
    "#     y = z3.Int('y')  # Declare y as an integer variable\n",
    "#     z = z3.Int('z')  # Declare z as an integer variable\n",
    "#     return Or(\n",
    "#         x <= 1,  # Exclude 1 explicitly\n",
    "#         Exists([y, z],\n",
    "#                And(y < x,  # y must be less than x\n",
    "#                     z < x,  # z must be less than x\n",
    "#                     y > 1,  # y must be greater than 1\n",
    "#                     z > 1,  # z must be greater than 1\n",
    "#                     x == y * z))  # x is divisible by y and z\n",
    "#     )\n",
    "\n",
    "\n",
    "# def find_initial_term_z3(n):\n",
    "#     o = Optimize()\n",
    "#     seq = [Int(f'a{i}') for i in range(n)]\n",
    "#     o.add(seq[0] > 0)\n",
    "#     for i in range(n):\n",
    "#         if i > 0:\n",
    "#             o.add(seq[i] == seq[i-1] + i)\n",
    "\n",
    "#         o.add(is_not_prime(seq[i]))\n",
    "\n",
    "#     # Minimize a0 (the first element)\n",
    "#     o.minimize(seq[0])\n",
    "\n",
    "#     if o.check() == sat:\n",
    "#         m = o.model()\n",
    "#         sequence = [m[seq[i]].as_long() for i in range(n)]\n",
    "#         return sequence\n",
    "#     else:\n",
    "#         return \"No sequence found\"\n",
    "\n",
    "# for n in range(1, 6):\n",
    "#     initial_term = find_initial_term_z3(n)\n",
    "#     print(f'The sequence X_{n} is: {initial_term}')\n",
    "\n",
    "\n",
    "# n=1000\n",
    "# initial_term = find_initial_term_z3(n)\n",
    "# print(f'The sequence X_{n} is: {initial_term}')\n",
    "\n",
    "# n=2024\n",
    "# initial_term = find_initial_term_z3(n)\n",
    "# print(f'The sequence X_{n} is: {initial_term}')"
   ]
  }
 ],
 "metadata": {
  "kernelspec": {
   "display_name": "Python 3",
   "language": "python",
   "name": "python3"
  },
  "language_info": {
   "codemirror_mode": {
    "name": "ipython",
    "version": 3
   },
   "file_extension": ".py",
   "mimetype": "text/x-python",
   "name": "python",
   "nbconvert_exporter": "python",
   "pygments_lexer": "ipython3",
   "version": "3.1.0"
  }
 },
 "nbformat": 4,
 "nbformat_minor": 2
}
