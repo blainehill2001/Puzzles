{
 "cells": [
  {
   "cell_type": "code",
   "execution_count": null,
   "metadata": {},
   "outputs": [],
   "source": []
  },
  {
   "cell_type": "code",
   "execution_count": 1,
   "metadata": {},
   "outputs": [],
   "source": [
    "from icecream import ic"
   ]
  },
  {
   "cell_type": "code",
   "execution_count": 2,
   "metadata": {},
   "outputs": [
    {
     "name": "stderr",
     "output_type": "stream",
     "text": [
      "ic| approximation - pi: Decimal('-0.224925986923126449331296801877518494923909505208333333333333333333333333333333333333333333333333333')\n",
      "ic| approximation - pi: Decimal('0.031484269487129960925113454532737915332500751201923076923076923076923076923076923076923076923076923')\n",
      "ic| approximation - pi: Decimal('-0.005084717081856608061455532036248653654068235367063492063492063492063492063492063492063492063492063')\n",
      "ic| approximation - pi: Decimal('0.003043361735877382086327719195278439941990877933429118773946360153256704980842911877394636015325670')\n",
      "ic| approximation - pi: Decimal('-0.000512556502414475221264439417971569357566463137135922330097087378640776699029126213592233009708738')\n",
      "ic| approximation - pi: Decimal('0.000048916274923170631416520939059735393027250850751708972704240164443807065347291935560973277881352')\n",
      "ic| approximation - pi: Decimal('-0.000020187823778962887036164068493589124810157721889072695524308427534233985846889072695524308427534')\n",
      "ic| approximation - pi: Decimal('8.75999632506259396134916649489394553609424411942366798727947838754952298043953310711176648249E-7')\n",
      "ic| approximation - pi: Decimal('-1.097308096161717548238015750173963569680081774578417428883561461129942094791577995568248379E-9')\n",
      "ic| approximation - pi: Decimal('1.9054635640703966847021687989268134832665607653569942424265219074403045586371698041000002E-11')\n",
      "ic| approximation - pi: Decimal('-4.173935160066080930994121719080968169159518591656599556569505626238771919952514629533370E-12')\n",
      "ic| approximation - pi: Decimal('3.94123770509351015417425464175638987855462795019752630207510428365023384162722838268919E-13')\n",
      "ic| approximation - pi: Decimal('-2.2731342811426812739715073068738565749446231640212838511034134696648518623338267313743E-14')\n",
      "ic| approximation - pi: Decimal('2.677587717335648280917128525862208766349890449785227626656089473450356677419825603278E-15')\n",
      "ic| approximation - pi: Decimal('-3.27831018063367671936122221319270386279442451773635112829542862276931014661496077341E-16')\n",
      "ic| approximation - pi: Decimal('1.22706024904543498501813595455121982931453881137090302013631527208697932309256415500E-16')\n",
      "ic| approximation - pi: Decimal('1.22464515427505698286144146825718875901859152749740175503623433318597793982680197669E-16')\n",
      "ic| approximation - pi: Decimal('1.22464705640364903089679525615986770676584920793075306313154924050352951164041339569E-16')\n"
     ]
    },
    {
     "name": "stdout",
     "output_type": "stream",
     "text": [
      "No suitable triple found within the provided sequences.\n"
     ]
    }
   ],
   "source": [
    "import requests\n",
    "from decimal import Decimal, getcontext\n",
    "\n",
    "# Set the precision to 100 digits\n",
    "getcontext().prec = 100\n",
    "\n",
    "\n",
    "import math\n",
    "\n",
    "\n",
    "def fetch_oeis_sequence(sequence_id):\n",
    "    \"\"\"Fetches sequence data from OEIS.\"\"\"\n",
    "    url = f\"https://oeis.org/search?q=id:{sequence_id}&fmt=json\"\n",
    "    response = requests.get(url)\n",
    "    data = response.json()\n",
    "    sequence = data[\"results\"][0][\"data\"].split(\",\")\n",
    "    return [int(num) for num in sequence]\n",
    "\n",
    "\n",
    "def find_approximation():\n",
    "    \"\"\"Finds a Pythagorean triple that approximates pi to less than 10^-20.\"\"\"\n",
    "    numerators = fetch_oeis_sequence(\"A195545\")\n",
    "    denominators = fetch_oeis_sequence(\"A195544\")\n",
    "    hypotenuses = fetch_oeis_sequence(\"A195546\")\n",
    "\n",
    "    target_accuracy = Decimal(\"1E-18\")\n",
    "    pi = Decimal(math.pi)\n",
    "\n",
    "    for a, b, c in zip(denominators, numerators, hypotenuses):\n",
    "        a = Decimal(a)\n",
    "        b = Decimal(b)\n",
    "        approximation = b / a\n",
    "        ic(approximation - pi)\n",
    "        if abs(approximation - pi) < target_accuracy:\n",
    "            return (b, a, c, approximation)\n",
    "\n",
    "    return None\n",
    "\n",
    "\n",
    "result = find_approximation()\n",
    "if result:\n",
    "    a, b, c, approx_pi = result\n",
    "    print(f\"Found Pythagorean triple: ({a}, {b}, {c})\")\n",
    "    print(f\"Approximation of pi: {approx_pi}\")\n",
    "else:\n",
    "    print(\"No suitable triple found within the provided sequences.\")"
   ]
  }
 ],
 "metadata": {
  "kernelspec": {
   "display_name": "temp",
   "language": "python",
   "name": "python3"
  },
  "language_info": {
   "codemirror_mode": {
    "name": "ipython",
    "version": 3
   },
   "file_extension": ".py",
   "mimetype": "text/x-python",
   "name": "python",
   "nbconvert_exporter": "python",
   "pygments_lexer": "ipython3",
   "version": "3.12.2"
  }
 },
 "nbformat": 4,
 "nbformat_minor": 2
}
