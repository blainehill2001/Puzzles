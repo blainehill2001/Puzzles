{
 "cells": [
  {
   "cell_type": "code",
   "execution_count": 10,
   "metadata": {},
   "outputs": [],
   "source": [
    "# first show histogram of possible outcomes for 1 game"
   ]
  },
  {
   "cell_type": "code",
   "execution_count": 11,
   "metadata": {},
   "outputs": [],
   "source": [
    "import matplotlib.pyplot as plt\n",
    "import numpy as np\n",
    "import collections\n",
    "from termcolor import colored\n",
    "from icecream import ic"
   ]
  },
  {
   "cell_type": "code",
   "execution_count": 12,
   "metadata": {},
   "outputs": [],
   "source": [
    "d4 = list(range(1, 5))\n",
    "d6 = list(range(1, 7))\n",
    "d8 = list(range(1, 9))\n",
    "d9 = list(\n",
    "    range(1, 10)\n",
    ")  ##????? on IBM website it says this is 0-9 die? instead of 1-9?\n",
    "d12 = list(range(1, 13))\n",
    "d20 = list(range(1, 21))"
   ]
  },
  {
   "cell_type": "code",
   "execution_count": 13,
   "metadata": {},
   "outputs": [
    {
     "data": {
      "image/png": "[encoded data removed]",
      "text/plain": [
       "<Figure size 1000x600 with 1 Axes>"
      ]
     },
     "metadata": {},
     "output_type": "display_data"
    }
   ],
   "source": [
    "sums = []\n",
    "for v1 in d4:\n",
    "    for v2 in d6:\n",
    "        for v3 in d8:\n",
    "            for v4 in d9:\n",
    "                for v5 in d12:\n",
    "                    for v6 in d20:\n",
    "                        sums.append(v1 + v2 + v3 + v4 + v5 + v6)\n",
    "\n",
    "fig, ax = plt.subplots(figsize=(10, 6))\n",
    "\n",
    "ax.hist(sums, bins=30)\n",
    "ax.set_xlabel(\"Sum\", labelpad=8)\n",
    "ax.set_ylabel(\"Frequency\")\n",
    "ax.set_title(\"Histogram of Sums Rolling 6 D&D Dice\")\n",
    "\n",
    "ax.xaxis.set_ticks(np.arange(min(sums), max(sums) + 1, 5))\n",
    "ax.xaxis.set_major_formatter(\"{x:.0f}\")\n",
    "\n",
    "fig.tight_layout()\n",
    "\n",
    "plt.show()"
   ]
  },
  {
   "cell_type": "code",
   "execution_count": 14,
   "metadata": {},
   "outputs": [],
   "source": [
    "from sympy import isprime\n",
    "\n",
    "\n",
    "def is_alice_win(n):\n",
    "    return isprime(n)\n",
    "\n",
    "\n",
    "def is_bob_win(n):\n",
    "    return not is_alice_win(n) and n % 2 == 0"
   ]
  },
  {
   "cell_type": "code",
   "execution_count": 15,
   "metadata": {},
   "outputs": [
    {
     "name": "stderr",
     "output_type": "stream",
     "text": [
      "ic| alice_win_outcomes: 114399\n",
      "    bob_win_outcomes: 230400\n",
      "    total_outcomes: 460800\n"
     ]
    },
    {
     "name": "stdout",
     "output_type": "stream",
     "text": [
      "Alice wins: 0.2482617187\n",
      "Bob wins: 0.5000000000\n",
      "Draw: 0.2517382812\n"
     ]
    }
   ],
   "source": [
    "# get probability that alice and bob each win a game\n",
    "total_outcomes = len(sums)\n",
    "alice_win_outcomes = bob_win_outcomes = 0\n",
    "\n",
    "\n",
    "for k, v in collections.Counter(sums).items():\n",
    "    if is_alice_win(k):\n",
    "        alice_win_outcomes += v\n",
    "    if is_bob_win(k):\n",
    "        bob_win_outcomes += v\n",
    "\n",
    "ic(alice_win_outcomes, bob_win_outcomes, total_outcomes)\n",
    "\n",
    "alice_win_prob = alice_win_outcomes / total_outcomes\n",
    "bob_win_prob = bob_win_outcomes / total_outcomes\n",
    "draw_prob = 1 - (alice_win_prob + bob_win_prob)\n",
    "\n",
    "print(f\"Alice wins: {alice_win_prob:.10f}\")\n",
    "print(f\"Bob wins: {bob_win_prob:.10f}\")\n",
    "print(f\"Draw: {draw_prob:.10f}\")"
   ]
  },
  {
   "cell_type": "code",
   "execution_count": 16,
   "metadata": {},
   "outputs": [
    {
     "name": "stdout",
     "output_type": "stream",
     "text": [
      "Alice wins: 0.2482617187\n",
      "Bob wins: 0.5000000000\n",
      "Draw: 0.2517382812\n"
     ]
    }
   ],
   "source": [
    "in_prob = bob_win_outcomes / total_outcomes\n",
    "draw_prob = 1 - (alice_win_prob + bob_win_prob)\n",
    "\n",
    "print(f\"Alice wins: {alice_win_prob:.10f}\")\n",
    "print(f\"Bob wins: {bob_win_prob:.10f}\")\n",
    "print(f\"Draw: {draw_prob:.10f}\")"
   ]
  },
  {
   "cell_type": "code",
   "execution_count": null,
   "metadata": {},
   "outputs": [],
   "source": []
  },
  {
   "cell_type": "code",
   "execution_count": 17,
   "metadata": {},
   "outputs": [
    {
     "name": "stdout",
     "output_type": "stream",
     "text": [
      "0000 0001 0002 0003 0004 0005 0006 0007 0008 0009 0010 0011 0012 0013 0014 0015 0016 0017 0018 0019 0020 0021 0022 0023 0024 0025 0026 0027 0028 \n",
      "0001 \u001b[43m\u001b[34m0.25173828125\u001b[0m \u001b[43m\u001b[34m0.24826171875\u001b[0m 00.0 00.0 00.0 00.0 00.0 00.0 00.0 00.0 00.0 00.0 00.0 \u001b[43m\u001b[34m00.5\u001b[0m 00.0 00.0 00.0 00.0 00.0 00.0 00.0 00.0 00.0 00.0 00.0 00.0 00.0 00.0 \n",
      "0002 \u001b[43m\u001b[34m0.25173828125\u001b[0m 00.0 \u001b[43m\u001b[34m0.24826171875\u001b[0m 00.0 00.0 00.0 00.0 00.0 00.0 00.0 00.0 00.0 00.0 \u001b[43m\u001b[34m00.5\u001b[0m 00.0 00.0 00.0 00.0 00.0 00.0 00.0 00.0 00.0 00.0 00.0 00.0 00.0 00.0 \n",
      "0003 \u001b[43m\u001b[34m0.25173828125\u001b[0m 00.0 00.0 \u001b[43m\u001b[34m0.24826171875\u001b[0m 00.0 00.0 00.0 00.0 00.0 00.0 00.0 00.0 00.0 \u001b[43m\u001b[34m00.5\u001b[0m 00.0 00.0 00.0 00.0 00.0 00.0 00.0 00.0 00.0 00.0 00.0 00.0 00.0 00.0 \n",
      "0004 \u001b[43m\u001b[34m0.25173828125\u001b[0m 00.0 00.0 00.0 \u001b[43m\u001b[34m0.24826171875\u001b[0m 00.0 00.0 00.0 00.0 00.0 00.0 00.0 00.0 \u001b[43m\u001b[34m00.5\u001b[0m 00.0 00.0 00.0 00.0 00.0 00.0 00.0 00.0 00.0 00.0 00.0 00.0 00.0 00.0 \n",
      "0005 \u001b[43m\u001b[34m0.25173828125\u001b[0m 00.0 00.0 00.0 00.0 \u001b[43m\u001b[34m0.24826171875\u001b[0m 00.0 00.0 00.0 00.0 00.0 00.0 00.0 \u001b[43m\u001b[34m00.5\u001b[0m 00.0 00.0 00.0 00.0 00.0 00.0 00.0 00.0 00.0 00.0 00.0 00.0 00.0 00.0 \n",
      "0006 \u001b[43m\u001b[34m0.25173828125\u001b[0m 00.0 00.0 00.0 00.0 00.0 \u001b[43m\u001b[34m0.24826171875\u001b[0m 00.0 00.0 00.0 00.0 00.0 00.0 \u001b[43m\u001b[34m00.5\u001b[0m 00.0 00.0 00.0 00.0 00.0 00.0 00.0 00.0 00.0 00.0 00.0 00.0 00.0 00.0 \n",
      "0007 \u001b[43m\u001b[34m0.25173828125\u001b[0m 00.0 00.0 00.0 00.0 00.0 00.0 \u001b[43m\u001b[34m0.24826171875\u001b[0m 00.0 00.0 00.0 00.0 00.0 \u001b[43m\u001b[34m00.5\u001b[0m 00.0 00.0 00.0 00.0 00.0 00.0 00.0 00.0 00.0 00.0 00.0 00.0 00.0 00.0 \n",
      "0008 \u001b[43m\u001b[34m0.25173828125\u001b[0m 00.0 00.0 00.0 00.0 00.0 00.0 00.0 \u001b[43m\u001b[34m0.24826171875\u001b[0m 00.0 00.0 00.0 00.0 \u001b[43m\u001b[34m00.5\u001b[0m 00.0 00.0 00.0 00.0 00.0 00.0 00.0 00.0 00.0 00.0 00.0 00.0 00.0 00.0 \n",
      "0009 \u001b[43m\u001b[34m0.25173828125\u001b[0m 00.0 00.0 00.0 00.0 00.0 00.0 00.0 00.0 \u001b[43m\u001b[34m0.24826171875\u001b[0m 00.0 00.0 00.0 \u001b[43m\u001b[34m00.5\u001b[0m 00.0 00.0 00.0 00.0 00.0 00.0 00.0 00.0 00.0 00.0 00.0 00.0 00.0 00.0 \n",
      "0010 \u001b[43m\u001b[34m0.25173828125\u001b[0m 00.0 00.0 00.0 00.0 00.0 00.0 00.0 00.0 00.0 \u001b[43m\u001b[34m0.24826171875\u001b[0m 00.0 00.0 \u001b[43m\u001b[34m00.5\u001b[0m 00.0 00.0 00.0 00.0 00.0 00.0 00.0 00.0 00.0 00.0 00.0 00.0 00.0 00.0 \n",
      "0011 \u001b[43m\u001b[34m0.25173828125\u001b[0m 00.0 00.0 00.0 00.0 00.0 00.0 00.0 00.0 00.0 00.0 \u001b[43m\u001b[34m0.24826171875\u001b[0m 00.0 \u001b[43m\u001b[34m00.5\u001b[0m 00.0 00.0 00.0 00.0 00.0 00.0 00.0 00.0 00.0 00.0 00.0 00.0 00.0 00.0 \n",
      "0012 \u001b[43m\u001b[34m0.25173828125\u001b[0m 00.0 00.0 00.0 00.0 00.0 00.0 00.0 00.0 00.0 00.0 00.0 \u001b[43m\u001b[34m0.24826171875\u001b[0m \u001b[43m\u001b[34m00.5\u001b[0m 00.0 00.0 00.0 00.0 00.0 00.0 00.0 00.0 00.0 00.0 00.0 00.0 00.0 00.0 \n",
      "0013 \u001b[43m\u001b[34m0.25173828125\u001b[0m 00.0 00.0 00.0 00.0 00.0 00.0 00.0 00.0 00.0 00.0 00.0 00.0 \u001b[43m\u001b[34m00.5\u001b[0m 00.0 00.0 00.0 00.0 00.0 00.0 00.0 00.0 00.0 00.0 00.0 00.0 \u001b[43m\u001b[34m0.24826171875\u001b[0m 00.0 \n",
      "0014 \u001b[43m\u001b[34m0.25173828125\u001b[0m \u001b[43m\u001b[34m0.24826171875\u001b[0m 00.0 00.0 00.0 00.0 00.0 00.0 00.0 00.0 00.0 00.0 00.0 00.0 \u001b[43m\u001b[34m00.5\u001b[0m 00.0 00.0 00.0 00.0 00.0 00.0 00.0 00.0 00.0 00.0 00.0 00.0 00.0 \n",
      "0015 \u001b[43m\u001b[34m0.25173828125\u001b[0m \u001b[43m\u001b[34m0.24826171875\u001b[0m 00.0 00.0 00.0 00.0 00.0 00.0 00.0 00.0 00.0 00.0 00.0 00.0 00.0 \u001b[43m\u001b[34m00.5\u001b[0m 00.0 00.0 00.0 00.0 00.0 00.0 00.0 00.0 00.0 00.0 00.0 00.0 \n",
      "0016 \u001b[43m\u001b[34m0.25173828125\u001b[0m \u001b[43m\u001b[34m0.24826171875\u001b[0m 00.0 00.0 00.0 00.0 00.0 00.0 00.0 00.0 00.0 00.0 00.0 00.0 00.0 00.0 \u001b[43m\u001b[34m00.5\u001b[0m 00.0 00.0 00.0 00.0 00.0 00.0 00.0 00.0 00.0 00.0 00.0 \n",
      "0017 \u001b[43m\u001b[34m0.25173828125\u001b[0m \u001b[43m\u001b[34m0.24826171875\u001b[0m 00.0 00.0 00.0 00.0 00.0 00.0 00.0 00.0 00.0 00.0 00.0 00.0 00.0 00.0 00.0 \u001b[43m\u001b[34m00.5\u001b[0m 00.0 00.0 00.0 00.0 00.0 00.0 00.0 00.0 00.0 00.0 \n",
      "0018 \u001b[43m\u001b[34m0.25173828125\u001b[0m \u001b[43m\u001b[34m0.24826171875\u001b[0m 00.0 00.0 00.0 00.0 00.0 00.0 00.0 00.0 00.0 00.0 00.0 00.0 00.0 00.0 00.0 00.0 \u001b[43m\u001b[34m00.5\u001b[0m 00.0 00.0 00.0 00.0 00.0 00.0 00.0 00.0 00.0 \n",
      "0019 \u001b[43m\u001b[34m0.25173828125\u001b[0m \u001b[43m\u001b[34m0.24826171875\u001b[0m 00.0 00.0 00.0 00.0 00.0 00.0 00.0 00.0 00.0 00.0 00.0 00.0 00.0 00.0 00.0 00.0 00.0 \u001b[43m\u001b[34m00.5\u001b[0m 00.0 00.0 00.0 00.0 00.0 00.0 00.0 00.0 \n",
      "0020 \u001b[43m\u001b[34m0.25173828125\u001b[0m \u001b[43m\u001b[34m0.24826171875\u001b[0m 00.0 00.0 00.0 00.0 00.0 00.0 00.0 00.0 00.0 00.0 00.0 00.0 00.0 00.0 00.0 00.0 00.0 00.0 \u001b[43m\u001b[34m00.5\u001b[0m 00.0 00.0 00.0 00.0 00.0 00.0 00.0 \n",
      "0021 \u001b[43m\u001b[34m0.25173828125\u001b[0m \u001b[43m\u001b[34m0.24826171875\u001b[0m 00.0 00.0 00.0 00.0 00.0 00.0 00.0 00.0 00.0 00.0 00.0 00.0 00.0 00.0 00.0 00.0 00.0 00.0 00.0 \u001b[43m\u001b[34m00.5\u001b[0m 00.0 00.0 00.0 00.0 00.0 00.0 \n",
      "0022 \u001b[43m\u001b[34m0.25173828125\u001b[0m \u001b[43m\u001b[34m0.24826171875\u001b[0m 00.0 00.0 00.0 00.0 00.0 00.0 00.0 00.0 00.0 00.0 00.0 00.0 00.0 00.0 00.0 00.0 00.0 00.0 00.0 00.0 \u001b[43m\u001b[34m00.5\u001b[0m 00.0 00.0 00.0 00.0 00.0 \n",
      "0023 \u001b[43m\u001b[34m0.25173828125\u001b[0m \u001b[43m\u001b[34m0.24826171875\u001b[0m 00.0 00.0 00.0 00.0 00.0 00.0 00.0 00.0 00.0 00.0 00.0 00.0 00.0 00.0 00.0 00.0 00.0 00.0 00.0 00.0 00.0 \u001b[43m\u001b[34m00.5\u001b[0m 00.0 00.0 00.0 00.0 \n",
      "0024 \u001b[43m\u001b[34m0.25173828125\u001b[0m \u001b[43m\u001b[34m0.24826171875\u001b[0m 00.0 00.0 00.0 00.0 00.0 00.0 00.0 00.0 00.0 00.0 00.0 00.0 00.0 00.0 00.0 00.0 00.0 00.0 00.0 00.0 00.0 00.0 \u001b[43m\u001b[34m00.5\u001b[0m 00.0 00.0 00.0 \n",
      "0025 \u001b[43m\u001b[34m0.25173828125\u001b[0m \u001b[43m\u001b[34m0.24826171875\u001b[0m 00.0 00.0 00.0 00.0 00.0 00.0 00.0 00.0 00.0 00.0 00.0 00.0 00.0 00.0 00.0 00.0 00.0 00.0 00.0 00.0 00.0 00.0 00.0 \u001b[43m\u001b[34m00.5\u001b[0m 00.0 00.0 \n",
      "0026 \u001b[43m\u001b[34m0.25173828125\u001b[0m \u001b[43m\u001b[34m0.24826171875\u001b[0m 00.0 00.0 00.0 00.0 00.0 00.0 00.0 00.0 00.0 00.0 00.0 00.0 00.0 00.0 00.0 00.0 00.0 00.0 00.0 00.0 00.0 00.0 00.0 00.0 00.0 \u001b[43m\u001b[34m00.5\u001b[0m \n",
      "0027 00.0 00.0 00.0 00.0 00.0 00.0 00.0 00.0 00.0 00.0 00.0 00.0 00.0 00.0 00.0 00.0 00.0 00.0 00.0 00.0 00.0 00.0 00.0 00.0 00.0 00.0 \u001b[43m\u001b[34m01.0\u001b[0m 00.0 \n",
      "0028 00.0 00.0 00.0 00.0 00.0 00.0 00.0 00.0 00.0 00.0 00.0 00.0 00.0 00.0 00.0 00.0 00.0 00.0 00.0 00.0 00.0 00.0 00.0 00.0 00.0 00.0 00.0 \u001b[43m\u001b[34m01.0\u001b[0m \n"
     ]
    }
   ],
   "source": [
    "# # driver code for basic MDP\n",
    "\n",
    "# # Transition probability matrix\n",
    "# P = np.array([[0.25, 0.25, 0.5],\n",
    "#                [0, 1, 0],\n",
    "#                [0, 0, 1]])\n",
    "# t,r = 1, 2\n",
    "\n",
    "# Q = P[:t, :t]\n",
    "# R = P[:t, t:r+t]\n",
    "# print(Q.shape)\n",
    "# print(R.shape)\n",
    "# N = np.linalg.inv(np.eye(t) - Q)\n",
    "\n",
    "# B = N @ R\n",
    "# print(B[0,0], B[0,1])\n",
    "\n",
    "\n",
    "# Number of wins to finish\n",
    "N_STATES = 13\n",
    "\n",
    "# Transition probability matrix\n",
    "P = np.zeros((2 * N_STATES + 2, 2 * N_STATES + 2))\n",
    "# alice loop\n",
    "for i in range(N_STATES):\n",
    "    P[i, 0] = draw_prob\n",
    "    P[i, N_STATES] = bob_win_prob\n",
    "\n",
    "    if i == N_STATES - 1:\n",
    "        P[i, 2 * N_STATES] = alice_win_prob\n",
    "        break\n",
    "\n",
    "    P[i, i + 1] = alice_win_prob\n",
    "\n",
    "\n",
    "for i in range(N_STATES, 2 * N_STATES):\n",
    "    P[i, 0] = draw_prob\n",
    "    P[i, 1] = alice_win_prob\n",
    "\n",
    "    if i == 2 * N_STATES - 1:\n",
    "        P[i, 2 * N_STATES + 1] = bob_win_prob\n",
    "        break\n",
    "\n",
    "    P[i, i + 1] = bob_win_prob\n",
    "\n",
    "# add absorbing states\n",
    "P[2 * N_STATES, 2 * N_STATES] = 1\n",
    "P[2 * N_STATES + 1, 2 * N_STATES + 1] = 1\n",
    "\n",
    "for i in range(P.shape[1] + 1):\n",
    "    print(f\"{i:04}\", end=\" \")\n",
    "print()\n",
    "\n",
    "for i, row in enumerate(P):\n",
    "    print(f\"{i+1:04}\", end=\" \")\n",
    "    for value in row:\n",
    "        if value == 0:\n",
    "            print(f\"{value:04}\", end=\" \")\n",
    "        else:\n",
    "            print(colored(f\"{value:04}\", \"blue\", \"on_yellow\"), end=\" \")\n",
    "    print()"
   ]
  },
  {
   "cell_type": "code",
   "execution_count": 18,
   "metadata": {},
   "outputs": [
    {
     "name": "stdout",
     "output_type": "stream",
     "text": [
      "[9.99832433e-01 1.67566680e-04]\n",
      "Alice win: 0.00017\n",
      "Bob win: 0.99983\n"
     ]
    }
   ],
   "source": [
    "t, r = 2 * N_STATES - 1, 2\n",
    "Q = P[:t, :t]\n",
    "R = P[:t, t : r + t]\n",
    "\n",
    "N = np.linalg.inv(np.eye(t) - Q)\n",
    "\n",
    "B = N @ R\n",
    "\n",
    "print(B[0])\n",
    "print(f\"Alice win: {B[0,1]:.5f}\")\n",
    "print(f\"Bob win: {B[0,0]:.5f}\")"
   ]
  }
 ],
 "metadata": {
  "kernelspec": {
   "display_name": "temp",
   "language": "python",
   "name": "python3"
  },
  "language_info": {
   "codemirror_mode": {
    "name": "ipython",
    "version": 3
   },
   "file_extension": ".py",
   "mimetype": "text/x-python",
   "name": "python",
   "nbconvert_exporter": "python",
   "pygments_lexer": "ipython3",
   "version": "3.11.6"
  }
 },
 "nbformat": 4,
 "nbformat_minor": 2
}
