{
 "cells": [
  {
   "cell_type": "code",
   "execution_count": null,
   "metadata": {},
   "outputs": [],
   "source": [
    "from mpmath import log10, mp, sqrt\n",
    "\n",
    "# Set precision to a large value, for example, 1000 decimal places\n",
    "mp.dps = 1000\n",
    "\n",
    "# Define the expression\n",
    "numerator = 10**100 + log10(32)\n",
    "denominator = 2 * log10(3 + 2 * sqrt(2))\n",
    "x = numerator / denominator\n",
    "\n",
    "# Print the result\n",
    "print(x)\n"
   ]
  }
 ],
 "metadata": {
  "language_info": {
   "name": "python"
  }
 },
 "nbformat": 4,
 "nbformat_minor": 2
}
